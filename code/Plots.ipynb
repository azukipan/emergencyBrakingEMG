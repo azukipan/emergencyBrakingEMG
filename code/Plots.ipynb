{
 "cells": [
  {
   "cell_type": "code",
   "execution_count": null,
   "id": "c0cb6aea-87f9-4420-a236-1a1395661362",
   "metadata": {},
   "outputs": [],
   "source": [
    "import matplotlib.pyplot as plt\n",
    "from matplotlib.ticker import StrMethodFormatter\n",
    "\n",
    "#AUCplot = plt.figure()\n"
   ]
  },
  {
   "cell_type": "code",
   "execution_count": null,
   "id": "b167b2e8-5460-470a-8a64-dbc88ae29804",
   "metadata": {},
   "outputs": [],
   "source": [
    "modelOptions = [\"MLP\",\n",
    "                \"Perceptron\",\n",
    "                \"LDA\", \n",
    "                \"SVM\",\n",
    "                \"Logistic Regression\"\n",
    "                ]\n",
    "\n",
    "lineStyles = [\"-\",\n",
    "                \"--\",\n",
    "                \"-.\", \n",
    "                \":\",\n",
    "                \"-\"\n",
    "                ]\n",
    "\n",
    "x = list(range(1, 129))\n",
    "\n",
    "dataAblationOrder = {#Specify order in which to successively remove PSD components based on frequency.\n",
    "        \"High to low frequency\":[\"highFreqtoLowFreq\", 0],\n",
    "        \"Low to high frequency\":[\"lowFreqtoHighFreq\", 1]\n",
    "    }\n",
    "#Create data ablation plots\n",
    "for order in dataAblationOrder:\n",
    "    plt.figure()\n",
    "    plt.gca().invert_xaxis()\n",
    "    plt.gca().yaxis.set_major_formatter(StrMethodFormatter('{x:,.1f}'))\n",
    "    plt.gca().yaxis.set_ticks_position('both')\n",
    "    plt.gca().xaxis.set_ticks_position('both')\n",
    "    plt.gca().tick_params(axis=\"both\", direction=\"in\", tickdir = \"inout\")\n",
    "    plt.ylabel(\"AUC (%)\")\n",
    "    plt.xlabel(\"Number of PSD Components\")\n",
    "    for selectedModel, lineStyle in zip(modelOptions, lineStyles):\n",
    "        #Read log file for AUCs and number of PSD components.\n",
    "        file = open(\"../results_{}/{}_AUC.csv\".format(dataAblationOrder[order][0],selectedModel), \"r\")\n",
    "        data = file.readlines()\n",
    "        y = []\n",
    "        y_stdDev = []\n",
    "        for line in data[2:]:\n",
    "            y.append(float(line.split(\",\")[1].split(\"\\n\")[0])*100)\n",
    "            y_stdDev.append(float(line.split(\",\")[2].split(\"\\n\")[0])*100)\n",
    "        y_posStdDev = [element1 + element2 for element1, element2 in zip(y, y_stdDev)]\n",
    "        y_negStdDev = [element1 - element2 for element1, element2 in zip(y, y_stdDev)]\n",
    "        plt.plot(x, y, label = selectedModel, linestyle = lineStyle, linewidth = 2)\n",
    "        plt.fill_between(x, y_posStdDev, y_negStdDev, alpha=0.2)\n",
    "    plt.legend(loc=\"lower left\")\n",
    "    plt.savefig(\"../results_{}/AUC_{}\".format(dataAblationOrder[order][0], dataAblationOrder[order][0]))"
   ]
  },
  {
   "cell_type": "code",
   "execution_count": null,
   "id": "3eee5209",
   "metadata": {},
   "outputs": [],
   "source": [
    "#Create bar chart for optmized AUC and confidence\n",
    "colors = [\"royalblue\",\n",
    "            \"slateblue\", \n",
    "            \"deepskyblue\",\n",
    "            \"lightskyblue\",\n",
    "            \"powderblue\"\n",
    "]\n",
    "plt.rcParams[\"figure.figsize\"] = (10,8)\n",
    "for order in dataAblationOrder:\n",
    "    y = []\n",
    "    y_stdDev = []\n",
    "    y_numOfComponents = []\n",
    "    plt.figure()\n",
    "    plt.grid(axis=\"y\")\n",
    "    for selectedModel in modelOptions:\n",
    "        #Read log file for AUCs and number of PSD components.\n",
    "        file = open(\"../results_{}/{}_AUC.csv\".format(dataAblationOrder[order][0],selectedModel), \"r\")\n",
    "        data = file.readlines()\n",
    "        #Initialize with values from first line in CSV file\n",
    "        y_max = float(data[2].split(\",\")[1].split(\"\\n\")[0])*100\n",
    "        y_stdDevMin = float(data[2].split(\",\")[2].split(\"\\n\")[0])*100\n",
    "        numberOfPSDComponents = 1\n",
    "        for line in data[2:]:\n",
    "            grandAverageAUC = float(line.split(\",\")[1].split(\"\\n\")[0])*100\n",
    "            #Check if greater than or equal to current max value.\n",
    "            if y_max <= grandAverageAUC:\n",
    "                grandAverageAUCStdDev = float(line.split(\",\")[2].split(\"\\n\")[0])*100 \n",
    "                #Check if min standard dev\n",
    "                if grandAverageAUCStdDev <= y_stdDevMin:\n",
    "                    y_max = grandAverageAUC\n",
    "                    y_stdDevMin = grandAverageAUCStdDev\n",
    "                    numberOfPSDComponents = line.split(\",\")[0].split(\"\\n\")[0]\n",
    "        y.append(round(y_max, 3))\n",
    "        y_stdDev.append(round(y_stdDevMin, 3))\n",
    "        y_numOfComponents.append(numberOfPSDComponents)\n",
    "    plt.gca().set_axisbelow(True)\n",
    "    plt.bar(modelOptions, y, color=colors, yerr=y_stdDev, capsize=3.0, width=0.6)\n",
    "    plt.gca().get_xaxis().set_visible(False)\n",
    "    plt.ylim(bottom=90, top=102)\n",
    "    # Add a table at the bottom of the axes\n",
    "    yString = [str(element) for element in y]\n",
    "    y_stdDevString = [str(element) for element in y_stdDev]\n",
    "    cellText = []\n",
    "    cellText.append(yString)\n",
    "    cellText.append(y_stdDevString)\n",
    "    cellText.append(y_numOfComponents)\n",
    "    plt.table(cellText=cellText,\n",
    "                      rowLabels= [\"Intersubject AUC (%)\", \"Standard Deviation (%)\", \"Number of PSD Components\"],\n",
    "                      colLabels= modelOptions,\n",
    "                      loc='bottom').auto_set_font_size(False)\n",
    "    plt.savefig(\"../results_{}/AUC_barchart_{}\".format(dataAblationOrder[order][0], dataAblationOrder[order][0]))"
   ]
  },
  {
   "cell_type": "code",
   "execution_count": 5,
   "id": "36638ca7",
   "metadata": {},
   "outputs": [
    {
     "ename": "IndexError",
     "evalue": "list index out of range",
     "output_type": "error",
     "traceback": [
      "\u001b[0;31m---------------------------------------------------------------------------\u001b[0m",
      "\u001b[0;31mIndexError\u001b[0m                                Traceback (most recent call last)",
      "Cell \u001b[0;32mIn[5], line 20\u001b[0m\n\u001b[1;32m     18\u001b[0m data \u001b[39m=\u001b[39m file\u001b[39m.\u001b[39mreadlines()\n\u001b[1;32m     19\u001b[0m numberOfPSDComponents \u001b[39m=\u001b[39m \u001b[39m129\u001b[39m\n\u001b[0;32m---> 20\u001b[0m grandAverageAUC \u001b[39m=\u001b[39m \u001b[39mfloat\u001b[39m(data[numberOfPSDComponents\u001b[39m+\u001b[39;49m\u001b[39m1\u001b[39;49m]\u001b[39m.\u001b[39msplit(\u001b[39m\"\u001b[39m\u001b[39m,\u001b[39m\u001b[39m\"\u001b[39m)[\u001b[39m1\u001b[39m]\u001b[39m.\u001b[39msplit(\u001b[39m\"\u001b[39m\u001b[39m\\n\u001b[39;00m\u001b[39m\"\u001b[39m)[\u001b[39m0\u001b[39m])\u001b[39m*\u001b[39m\u001b[39m100\u001b[39m\n\u001b[1;32m     21\u001b[0m grandAverageAUCStdDev \u001b[39m=\u001b[39m \u001b[39mfloat\u001b[39m(data[numberOfPSDComponents\u001b[39m+\u001b[39m\u001b[39m1\u001b[39m]\u001b[39m.\u001b[39msplit(\u001b[39m\"\u001b[39m\u001b[39m,\u001b[39m\u001b[39m\"\u001b[39m)[\u001b[39m2\u001b[39m]\u001b[39m.\u001b[39msplit(\u001b[39m\"\u001b[39m\u001b[39m\\n\u001b[39;00m\u001b[39m\"\u001b[39m)[\u001b[39m0\u001b[39m])\u001b[39m*\u001b[39m\u001b[39m100\u001b[39m \n\u001b[1;32m     22\u001b[0m y\u001b[39m.\u001b[39mappend(\u001b[39mround\u001b[39m(y_max, \u001b[39m3\u001b[39m))\n",
      "\u001b[0;31mIndexError\u001b[0m: list index out of range"
     ]
    },
    {
     "data": {
      "image/png": "[encoded data removed]",
      "text/plain": [
       "<Figure size 1000x800 with 1 Axes>"
      ]
     },
     "metadata": {},
     "output_type": "display_data"
    }
   ],
   "source": [
    "#Create bar chart for naive AUC and confidence using all PSD components.\n",
    "colors = [\"royalblue\",\n",
    "            \"slateblue\", \n",
    "            \"deepskyblue\",\n",
    "            \"lightskyblue\",\n",
    "            \"powderblue\"\n",
    "]\n",
    "plt.rcParams[\"figure.figsize\"] = (10,8)\n",
    "\n",
    "y = []\n",
    "y_stdDev = []\n",
    "y_numOfComponents = []\n",
    "plt.figure()\n",
    "plt.grid(axis=\"y\")\n",
    "for selectedModel in modelOptions:\n",
    "    #Read log file for AUCs and number of PSD components.\n",
    "    file = open(\"../results_{}/{}_AUC.csv\".format(dataAblationOrder[\"High to low frequency\"][0],selectedModel), \"r\")\n",
    "    data = file.readlines()\n",
    "    numberOfPSDComponents = 129\n",
    "    grandAverageAUC = float(data[numberOfPSDComponents+1].split(\",\")[1].split(\"\\n\")[0])*100\n",
    "    grandAverageAUCStdDev = float(data[numberOfPSDComponents+1].split(\",\")[2].split(\"\\n\")[0])*100 \n",
    "    y.append(round(y_max, 3))\n",
    "    y_stdDev.append(round(y_stdDevMin, 3))\n",
    "plt.gca().set_axisbelow(True)\n",
    "plt.bar(modelOptions, y, color=colors, yerr=y_stdDev, capsize=3.0, width=0.6)\n",
    "plt.gca().get_xaxis().set_visible(False)\n",
    "plt.ylim(bottom=90, top=102)\n",
    "# Add a table at the bottom of the axes\n",
    "yString = [str(element) for element in y]\n",
    "y_stdDevString = [str(element) for element in y_stdDev]\n",
    "cellText = []\n",
    "cellText.append(yString)\n",
    "cellText.append(y_stdDevString)\n",
    "cellText.append(y_numOfComponents)\n",
    "plt.table(cellText=cellText,\n",
    "                    rowLabels= [\"Intersubject AUC (%)\", \"Standard Deviation (%)\"],\n",
    "                    colLabels= modelOptions,\n",
    "                    loc='bottom').auto_set_font_size(False)\n",
    "plt.savefig(\"../results_{}/AUC_barchart_{}\".format(dataAblationOrder[order][0], dataAblationOrder[order][0]))"
   ]
  }
 ],
 "metadata": {
  "kernelspec": {
   "display_name": "Python 3",
   "language": "python",
   "name": "python3"
  },
  "language_info": {
   "codemirror_mode": {
    "name": "ipython",
    "version": 3
   },
   "file_extension": ".py",
   "mimetype": "text/x-python",
   "name": "python",
   "nbconvert_exporter": "python",
   "pygments_lexer": "ipython3",
   "version": "3.10.4"
  },
  "vscode": {
   "interpreter": {
    "hash": "3ad933181bd8a04b432d3370b9dc3b0662ad032c4dfaa4e4f1596c548f763858"
   }
  }
 },
 "nbformat": 4,
 "nbformat_minor": 5
}
